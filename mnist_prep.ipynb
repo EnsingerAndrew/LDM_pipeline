{
 "cells": [
  {
   "cell_type": "code",
   "execution_count": 5,
   "id": "59e15acb",
   "metadata": {},
   "outputs": [],
   "source": [
    "import torch\n",
    "import matplotlib.pyplot as plt\n",
    "import math\n",
    "from utils import plot_image_grid\n",
    "from torchvision import datasets, transforms\n",
    "from tqdm import tqdm"
   ]
  },
  {
   "cell_type": "code",
   "execution_count": 3,
   "id": "a0abb108",
   "metadata": {},
   "outputs": [],
   "source": [
    "\n",
    "transform = transforms.Compose([\n",
    "    transforms.ToTensor(),  \n",
    "    transforms.Normalize((0.1307,), (0.3081,))  \n",
    "])\n",
    "\n",
    "train_dataset = datasets.MNIST(root='./data', train=True, download=True, transform=transform)\n",
    "test_dataset = datasets.MNIST(root='./data', train=False, download=True, transform=transform)\n",
    "\n",
    "train_loader = torch.utils.data.DataLoader(train_dataset, batch_size=1000, shuffle=False)\n",
    "test_loader = torch.utils.data.DataLoader(test_dataset, batch_size=1000, shuffle=False)"
   ]
  },
  {
   "cell_type": "code",
   "execution_count": 6,
   "id": "bda9c78a",
   "metadata": {},
   "outputs": [
    {
     "name": "stderr",
     "output_type": "stream",
     "text": [
      "  0%|          | 0/60 [00:00<?, ?it/s]"
     ]
    },
    {
     "name": "stderr",
     "output_type": "stream",
     "text": [
      "100%|██████████| 60/60 [00:08<00:00,  7.38it/s]\n",
      "100%|██████████| 10/10 [00:01<00:00,  7.77it/s]\n"
     ]
    },
    {
     "name": "stdout",
     "output_type": "stream",
     "text": [
      "torch.Size([70000, 1, 28, 28])\n",
      "torch.Size([70000])\n"
     ]
    }
   ],
   "source": [
    "mnist_tensor = []\n",
    "mnist_labels = []\n",
    "\n",
    "for images, labels in tqdm(train_loader):\n",
    "    mnist_tensor.append(images) \n",
    "    mnist_labels.append(labels)  \n",
    "\n",
    "for images, labels in tqdm(test_loader): \n",
    "    mnist_tensor.append(images) \n",
    "    mnist_labels.append(labels)  \n",
    "\n",
    "mnist_tensor = torch.cat(mnist_tensor, dim=0)\n",
    "mnist_labels = torch.cat(mnist_labels, dim=0)\n",
    "\n",
    "print(mnist_tensor.shape)\n",
    "print(mnist_labels.shape)\n",
    "\n",
    "torch.save(mnist_tensor, \"data/mnist_tensor.pth\")\n",
    "torch.save(mnist_tensor.repeat(1,3,1,1), \"data/mnist_tensor3.pth\")\n",
    "torch.save(mnist_labels, \"data/mnist_labels.pth\")"
   ]
  }
 ],
 "metadata": {
  "kernelspec": {
   "display_name": "Python 3",
   "language": "python",
   "name": "python3"
  },
  "language_info": {
   "codemirror_mode": {
    "name": "ipython",
    "version": 3
   },
   "file_extension": ".py",
   "mimetype": "text/x-python",
   "name": "python",
   "nbconvert_exporter": "python",
   "pygments_lexer": "ipython3",
   "version": "3.10.0"
  }
 },
 "nbformat": 4,
 "nbformat_minor": 5
}
